{
 "cells": [
  {
   "cell_type": "markdown",
   "id": "1b3f620e",
   "metadata": {},
   "source": [
    "# USE folium library to display my AOI\n",
    "\n",
    "### Student Exercise - investigate using geoview to do the same"
   ]
  },
  {
   "cell_type": "code",
   "execution_count": 1,
   "id": "1a9642a9",
   "metadata": {},
   "outputs": [],
   "source": [
    "import sys\n",
    "import os\n",
    "sys.path.append('./fakelib')"
   ]
  },
  {
   "cell_type": "code",
   "execution_count": 2,
   "id": "3f3f8c4f",
   "metadata": {},
   "outputs": [],
   "source": [
    "from fm_map import Fmap\n",
    "\n",
    "from nr_cube import NR\n",
    "os.environ[\"AWS_REQUEST_PAYER\"] = \"requester\" "
   ]
  },
  {
   "cell_type": "code",
   "execution_count": 3,
   "id": "340814a7",
   "metadata": {},
   "outputs": [
    {
     "name": "stdout",
     "output_type": "stream",
     "text": [
      "Chile-lithium.geojson\r\n"
     ]
    }
   ],
   "source": [
    "! ls *.geojson"
   ]
  },
  {
   "cell_type": "code",
   "execution_count": 4,
   "id": "8a9aee98",
   "metadata": {},
   "outputs": [],
   "source": [
    "my_aoi_file = './Chile-lithium.geojson'"
   ]
  },
  {
   "cell_type": "code",
   "execution_count": 5,
   "id": "ffcf1773",
   "metadata": {},
   "outputs": [
    {
     "name": "stdout",
     "output_type": "stream",
     "text": [
      "creating Fmap class\n"
     ]
    }
   ],
   "source": [
    "f=Fmap(color='yellow')\n",
    "\n",
    "mymap = f.sat_geojson(my_aoi_file)"
   ]
  },
  {
   "cell_type": "code",
   "execution_count": 6,
   "id": "3ff2831c",
   "metadata": {},
   "outputs": [
    {
     "data": {
      "text/html": [
       "<div style=\"width:100%;\"><div style=\"position:relative;width:100%;height:0;padding-bottom:60%;\"><span style=\"color:#565656\">Make this Notebook Trusted to load map: File -> Trust Notebook</span><iframe src=\"about:blank\" style=\"position:absolute;width:100%;height:100%;left:0;top:0;border:none !important;\" data-html=%3C%21DOCTYPE%20html%3E%0A%3Chead%3E%20%20%20%20%0A%20%20%20%20%3Cmeta%20http-equiv%3D%22content-type%22%20content%3D%22text/html%3B%20charset%3DUTF-8%22%20/%3E%0A%20%20%20%20%0A%20%20%20%20%20%20%20%20%3Cscript%3E%0A%20%20%20%20%20%20%20%20%20%20%20%20L_NO_TOUCH%20%3D%20false%3B%0A%20%20%20%20%20%20%20%20%20%20%20%20L_DISABLE_3D%20%3D%20false%3B%0A%20%20%20%20%20%20%20%20%3C/script%3E%0A%20%20%20%20%0A%20%20%20%20%3Cstyle%3Ehtml%2C%20body%20%7Bwidth%3A%20100%25%3Bheight%3A%20100%25%3Bmargin%3A%200%3Bpadding%3A%200%3B%7D%3C/style%3E%0A%20%20%20%20%3Cstyle%3E%23map%20%7Bposition%3Aabsolute%3Btop%3A0%3Bbottom%3A0%3Bright%3A0%3Bleft%3A0%3B%7D%3C/style%3E%0A%20%20%20%20%3Cscript%20src%3D%22https%3A//cdn.jsdelivr.net/npm/leaflet%401.6.0/dist/leaflet.js%22%3E%3C/script%3E%0A%20%20%20%20%3Cscript%20src%3D%22https%3A//code.jquery.com/jquery-1.12.4.min.js%22%3E%3C/script%3E%0A%20%20%20%20%3Cscript%20src%3D%22https%3A//maxcdn.bootstrapcdn.com/bootstrap/3.2.0/js/bootstrap.min.js%22%3E%3C/script%3E%0A%20%20%20%20%3Cscript%20src%3D%22https%3A//cdnjs.cloudflare.com/ajax/libs/Leaflet.awesome-markers/2.0.2/leaflet.awesome-markers.js%22%3E%3C/script%3E%0A%20%20%20%20%3Clink%20rel%3D%22stylesheet%22%20href%3D%22https%3A//cdn.jsdelivr.net/npm/leaflet%401.6.0/dist/leaflet.css%22/%3E%0A%20%20%20%20%3Clink%20rel%3D%22stylesheet%22%20href%3D%22https%3A//maxcdn.bootstrapcdn.com/bootstrap/3.2.0/css/bootstrap.min.css%22/%3E%0A%20%20%20%20%3Clink%20rel%3D%22stylesheet%22%20href%3D%22https%3A//maxcdn.bootstrapcdn.com/bootstrap/3.2.0/css/bootstrap-theme.min.css%22/%3E%0A%20%20%20%20%3Clink%20rel%3D%22stylesheet%22%20href%3D%22https%3A//maxcdn.bootstrapcdn.com/font-awesome/4.6.3/css/font-awesome.min.css%22/%3E%0A%20%20%20%20%3Clink%20rel%3D%22stylesheet%22%20href%3D%22https%3A//cdnjs.cloudflare.com/ajax/libs/Leaflet.awesome-markers/2.0.2/leaflet.awesome-markers.css%22/%3E%0A%20%20%20%20%3Clink%20rel%3D%22stylesheet%22%20href%3D%22https%3A//cdn.jsdelivr.net/gh/python-visualization/folium/folium/templates/leaflet.awesome.rotate.min.css%22/%3E%0A%20%20%20%20%0A%20%20%20%20%20%20%20%20%20%20%20%20%3Cmeta%20name%3D%22viewport%22%20content%3D%22width%3Ddevice-width%2C%0A%20%20%20%20%20%20%20%20%20%20%20%20%20%20%20%20initial-scale%3D1.0%2C%20maximum-scale%3D1.0%2C%20user-scalable%3Dno%22%20/%3E%0A%20%20%20%20%20%20%20%20%20%20%20%20%3Cstyle%3E%0A%20%20%20%20%20%20%20%20%20%20%20%20%20%20%20%20%23map_fa37e1ed44404fbb9385737a3c41a429%20%7B%0A%20%20%20%20%20%20%20%20%20%20%20%20%20%20%20%20%20%20%20%20position%3A%20relative%3B%0A%20%20%20%20%20%20%20%20%20%20%20%20%20%20%20%20%20%20%20%20width%3A%20100.0%25%3B%0A%20%20%20%20%20%20%20%20%20%20%20%20%20%20%20%20%20%20%20%20height%3A%20100.0%25%3B%0A%20%20%20%20%20%20%20%20%20%20%20%20%20%20%20%20%20%20%20%20left%3A%200.0%25%3B%0A%20%20%20%20%20%20%20%20%20%20%20%20%20%20%20%20%20%20%20%20top%3A%200.0%25%3B%0A%20%20%20%20%20%20%20%20%20%20%20%20%20%20%20%20%7D%0A%20%20%20%20%20%20%20%20%20%20%20%20%3C/style%3E%0A%20%20%20%20%20%20%20%20%0A%3C/head%3E%0A%3Cbody%3E%20%20%20%20%0A%20%20%20%20%0A%20%20%20%20%20%20%20%20%20%20%20%20%3Cdiv%20class%3D%22folium-map%22%20id%3D%22map_fa37e1ed44404fbb9385737a3c41a429%22%20%3E%3C/div%3E%0A%20%20%20%20%20%20%20%20%0A%3C/body%3E%0A%3Cscript%3E%20%20%20%20%0A%20%20%20%20%0A%20%20%20%20%20%20%20%20%20%20%20%20var%20map_fa37e1ed44404fbb9385737a3c41a429%20%3D%20L.map%28%0A%20%20%20%20%20%20%20%20%20%20%20%20%20%20%20%20%22map_fa37e1ed44404fbb9385737a3c41a429%22%2C%0A%20%20%20%20%20%20%20%20%20%20%20%20%20%20%20%20%7B%0A%20%20%20%20%20%20%20%20%20%20%20%20%20%20%20%20%20%20%20%20center%3A%20%5B-23.738840533735527%2C%20-68.543701171875%5D%2C%0A%20%20%20%20%20%20%20%20%20%20%20%20%20%20%20%20%20%20%20%20crs%3A%20L.CRS.EPSG3857%2C%0A%20%20%20%20%20%20%20%20%20%20%20%20%20%20%20%20%20%20%20%20zoom%3A%2012%2C%0A%20%20%20%20%20%20%20%20%20%20%20%20%20%20%20%20%20%20%20%20zoomControl%3A%20true%2C%0A%20%20%20%20%20%20%20%20%20%20%20%20%20%20%20%20%20%20%20%20preferCanvas%3A%20false%2C%0A%20%20%20%20%20%20%20%20%20%20%20%20%20%20%20%20%20%20%20%20center%3A%20%5B-23.738840533735527%2C%20-68.543701171875%5D%2C%0A%20%20%20%20%20%20%20%20%20%20%20%20%20%20%20%20%7D%0A%20%20%20%20%20%20%20%20%20%20%20%20%29%3B%0A%0A%20%20%20%20%20%20%20%20%20%20%20%20%0A%0A%20%20%20%20%20%20%20%20%0A%20%20%20%20%0A%20%20%20%20%20%20%20%20%20%20%20%20var%20tile_layer_e1cb155081fa416198c60fd716edbc03%20%3D%20L.tileLayer%28%0A%20%20%20%20%20%20%20%20%20%20%20%20%20%20%20%20%22%20http%3A//mt1.google.com/vt/lyrs%3Dy%5Cu0026z%3D%7Bz%7D%5Cu0026x%3D%7Bx%7D%5Cu0026y%3D%7By%7D%22%2C%0A%20%20%20%20%20%20%20%20%20%20%20%20%20%20%20%20%7B%22attribution%22%3A%20%22Google%22%2C%20%22detectRetina%22%3A%20false%2C%20%22maxNativeZoom%22%3A%2018%2C%20%22maxZoom%22%3A%2018%2C%20%22minZoom%22%3A%200%2C%20%22noWrap%22%3A%20false%2C%20%22opacity%22%3A%201%2C%20%22subdomains%22%3A%20%22abc%22%2C%20%22tms%22%3A%20false%7D%0A%20%20%20%20%20%20%20%20%20%20%20%20%29.addTo%28map_fa37e1ed44404fbb9385737a3c41a429%29%3B%0A%20%20%20%20%20%20%20%20%0A%20%20%20%20%0A%20%20%20%20%20%20%20%20%20%20%20%20map_fa37e1ed44404fbb9385737a3c41a429.fitBounds%28%0A%20%20%20%20%20%20%20%20%20%20%20%20%20%20%20%20%5B%5B-23.738840533735527%2C%20-68.543701171875%5D%2C%20%5B-23.392681978613%2C%20-68.20587158203124%5D%5D%2C%0A%20%20%20%20%20%20%20%20%20%20%20%20%20%20%20%20%7B%7D%0A%20%20%20%20%20%20%20%20%20%20%20%20%29%3B%0A%20%20%20%20%20%20%20%20%0A%20%20%20%20%0A%20%20%20%20%20%20%20%20function%20geo_json_77af3e1896cf498e91c6065100ec961a_styler%28feature%29%20%7B%0A%20%20%20%20%20%20%20%20%20%20%20%20switch%28feature.id%29%20%7B%0A%20%20%20%20%20%20%20%20%20%20%20%20%20%20%20%20default%3A%0A%20%20%20%20%20%20%20%20%20%20%20%20%20%20%20%20%20%20%20%20return%20%7B%22color%22%3A%20%22yellow%22%7D%3B%0A%20%20%20%20%20%20%20%20%20%20%20%20%7D%0A%20%20%20%20%20%20%20%20%7D%0A%0A%20%20%20%20%20%20%20%20function%20geo_json_77af3e1896cf498e91c6065100ec961a_onEachFeature%28feature%2C%20layer%29%20%7B%0A%20%20%20%20%20%20%20%20%20%20%20%20layer.on%28%7B%0A%20%20%20%20%20%20%20%20%20%20%20%20%7D%29%3B%0A%20%20%20%20%20%20%20%20%7D%3B%0A%20%20%20%20%20%20%20%20var%20geo_json_77af3e1896cf498e91c6065100ec961a%20%3D%20L.geoJson%28null%2C%20%7B%0A%20%20%20%20%20%20%20%20%20%20%20%20%20%20%20%20onEachFeature%3A%20geo_json_77af3e1896cf498e91c6065100ec961a_onEachFeature%2C%0A%20%20%20%20%20%20%20%20%20%20%20%20%0A%20%20%20%20%20%20%20%20%20%20%20%20%20%20%20%20style%3A%20geo_json_77af3e1896cf498e91c6065100ec961a_styler%2C%0A%20%20%20%20%20%20%20%20%7D%29%3B%0A%0A%20%20%20%20%20%20%20%20function%20geo_json_77af3e1896cf498e91c6065100ec961a_add%20%28data%29%20%7B%0A%20%20%20%20%20%20%20%20%20%20%20%20geo_json_77af3e1896cf498e91c6065100ec961a%0A%20%20%20%20%20%20%20%20%20%20%20%20%20%20%20%20.addData%28data%29%0A%20%20%20%20%20%20%20%20%20%20%20%20%20%20%20%20.addTo%28map_fa37e1ed44404fbb9385737a3c41a429%29%3B%0A%20%20%20%20%20%20%20%20%7D%0A%20%20%20%20%20%20%20%20%20%20%20%20geo_json_77af3e1896cf498e91c6065100ec961a_add%28%7B%22features%22%3A%20%5B%7B%22geometry%22%3A%20%7B%22coordinates%22%3A%20%5B%5B%5B-68.543701171875%2C%20-23.738840533735527%5D%2C%20%5B-68.20587158203124%2C%20-23.738840533735527%5D%2C%20%5B-68.20587158203124%2C%20-23.392681978613%5D%2C%20%5B-68.543701171875%2C%20-23.392681978613%5D%2C%20%5B-68.543701171875%2C%20-23.738840533735527%5D%5D%5D%2C%20%22type%22%3A%20%22Polygon%22%7D%2C%20%22id%22%3A%20%220%22%2C%20%22properties%22%3A%20%7B%7D%2C%20%22type%22%3A%20%22Feature%22%7D%5D%2C%20%22type%22%3A%20%22FeatureCollection%22%7D%29%3B%0A%0A%20%20%20%20%20%20%20%20%0A%20%20%20%20%0A%20%20%20%20%20%20%20%20%20%20%20%20%20%20%20%20var%20lat_lng_popup_1e2fc87047f84b659e4643058dad3fc5%20%3D%20L.popup%28%29%3B%0A%20%20%20%20%20%20%20%20%20%20%20%20%20%20%20%20function%20latLngPop%28e%29%20%7B%0A%20%20%20%20%20%20%20%20%20%20%20%20%20%20%20%20%20%20%20%20lat_lng_popup_1e2fc87047f84b659e4643058dad3fc5%0A%20%20%20%20%20%20%20%20%20%20%20%20%20%20%20%20%20%20%20%20%20%20%20%20.setLatLng%28e.latlng%29%0A%20%20%20%20%20%20%20%20%20%20%20%20%20%20%20%20%20%20%20%20%20%20%20%20.setContent%28%22Latitude%3A%20%22%20%2B%20e.latlng.lat.toFixed%284%29%20%2B%0A%20%20%20%20%20%20%20%20%20%20%20%20%20%20%20%20%20%20%20%20%20%20%20%20%20%20%20%20%20%20%20%20%20%20%20%20%22%3Cbr%3ELongitude%3A%20%22%20%2B%20e.latlng.lng.toFixed%284%29%29%0A%20%20%20%20%20%20%20%20%20%20%20%20%20%20%20%20%20%20%20%20%20%20%20%20.openOn%28map_fa37e1ed44404fbb9385737a3c41a429%29%3B%0A%20%20%20%20%20%20%20%20%20%20%20%20%20%20%20%20%20%20%20%20%7D%0A%20%20%20%20%20%20%20%20%20%20%20%20%20%20%20%20map_fa37e1ed44404fbb9385737a3c41a429.on%28%27click%27%2C%20latLngPop%29%3B%0A%20%20%20%20%20%20%20%20%20%20%20%20%0A%3C/script%3E onload=\"this.contentDocument.open();this.contentDocument.write(    decodeURIComponent(this.getAttribute('data-html')));this.contentDocument.close();\" allowfullscreen webkitallowfullscreen mozallowfullscreen></iframe></div></div>"
      ],
      "text/plain": [
       "<folium.folium.Map at 0x7f9220b84990>"
      ]
     },
     "execution_count": 6,
     "metadata": {},
     "output_type": "execute_result"
    }
   ],
   "source": [
    "mymap"
   ]
  },
  {
   "cell_type": "code",
   "execution_count": 7,
   "id": "fa1d7924",
   "metadata": {},
   "outputs": [],
   "source": [
    "# Now Create a netcdf for all future animations"
   ]
  },
  {
   "cell_type": "code",
   "execution_count": 8,
   "id": "0a29fb6d",
   "metadata": {},
   "outputs": [
    {
     "name": "stdout",
     "output_type": "stream",
     "text": [
      "creating Nathan Roberts Class\n",
      "Sat-API is Available\n"
     ]
    }
   ],
   "source": [
    "nr=NR()"
   ]
  },
  {
   "cell_type": "code",
   "execution_count": 9,
   "id": "c5126beb",
   "metadata": {},
   "outputs": [
    {
     "data": {
      "text/html": [
       "<div>\n",
       "<style scoped>\n",
       "    .dataframe tbody tr th:only-of-type {\n",
       "        vertical-align: middle;\n",
       "    }\n",
       "\n",
       "    .dataframe tbody tr th {\n",
       "        vertical-align: top;\n",
       "    }\n",
       "\n",
       "    .dataframe thead th {\n",
       "        text-align: right;\n",
       "    }\n",
       "</style>\n",
       "<table border=\"1\" class=\"dataframe\">\n",
       "  <thead>\n",
       "    <tr style=\"text-align: right;\">\n",
       "      <th></th>\n",
       "      <th>id</th>\n",
       "      <th>title</th>\n",
       "      <th>description</th>\n",
       "    </tr>\n",
       "  </thead>\n",
       "  <tbody>\n",
       "    <tr>\n",
       "      <th>0</th>\n",
       "      <td>landsat-c1l2alb-ta</td>\n",
       "      <td>Landsat Collection 1 Level-2 Albers Top of Atmosphere (TA) Reflectance Product</td>\n",
       "      <td>The Landsat Top of Atmosphere (TA) Reflectance product applies per pixel angle band corrections to the Level-1 radiance product.</td>\n",
       "    </tr>\n",
       "    <tr>\n",
       "      <th>1</th>\n",
       "      <td>landsat-c2l2alb-bt</td>\n",
       "      <td>Landsat Collection 2 Level-2 Albers Top of Atmosphere Brightness Temperature (BT) Product</td>\n",
       "      <td>The Landsat Top of Atmosphere Brightness Temperature (BT) product is a top of atmosphere product with radiance calculated 'at-sensor', not atmospherically corrected, and expressed in units of Kelvin.</td>\n",
       "    </tr>\n",
       "    <tr>\n",
       "      <th>2</th>\n",
       "      <td>landsat-c2l2alb-ta</td>\n",
       "      <td>Landsat Collection 2 Level-2 Albers Top of Atmosphere (TA) Reflectance Product</td>\n",
       "      <td>The Landsat Top of Atmosphere (TA) Reflectance product applies per pixel angle band corrections to the Level-1 radiance product.</td>\n",
       "    </tr>\n",
       "    <tr>\n",
       "      <th>3</th>\n",
       "      <td>landsat-c2l2alb-st</td>\n",
       "      <td>Landsat Collection 2 Level-2 Albers Surface Temperature (ST) Product</td>\n",
       "      <td>The Landsat Surface Temperature (ST) product represents the temperature of the Earth's surface in Kelvin (K).</td>\n",
       "    </tr>\n",
       "    <tr>\n",
       "      <th>4</th>\n",
       "      <td>landsat-c1l2alb-st</td>\n",
       "      <td>Landsat Collection 1 Level-2 Albers Surface Temperature (ST) Product</td>\n",
       "      <td>The Landsat Surface Temperature (ST) product represents the temperature of the Earth's surface in Kelvin (K).</td>\n",
       "    </tr>\n",
       "    <tr>\n",
       "      <th>5</th>\n",
       "      <td>landsat-c2l2-sr</td>\n",
       "      <td>Landsat Collection 2 Level-2 UTM Surface Reflectance (SR) Product</td>\n",
       "      <td>The Landsat Surface Reflectance (SR) product measures the fraction of incoming solar radiation that is reflected from Earth's surface to the Landsat sensor.</td>\n",
       "    </tr>\n",
       "    <tr>\n",
       "      <th>6</th>\n",
       "      <td>landsat-c2l2-st</td>\n",
       "      <td>Landsat Collection 2 Level-2 UTM Surface Temperature (ST) Product</td>\n",
       "      <td>The Landsat Surface Temperature (ST) product represents the temperature of the Earth's surface in Kelvin (K).</td>\n",
       "    </tr>\n",
       "    <tr>\n",
       "      <th>7</th>\n",
       "      <td>landsat-c1l1</td>\n",
       "      <td>Landsat Collection 1 Level-1 Product</td>\n",
       "      <td>The Landsat Level-1 product is a top of atmosphere product distributed as scaled and calibrated digital numbers.</td>\n",
       "    </tr>\n",
       "    <tr>\n",
       "      <th>8</th>\n",
       "      <td>landsat-c1l2alb-bt</td>\n",
       "      <td>Landsat Collection 1 Level-2 Albers Top of Atmosphere Brightness Temperature (BT) Product</td>\n",
       "      <td>The Landsat Top of Atmosphere Brightness Temperature (BT) product is a top of atmosphere product with radiance calculated 'at-sensor', not atmospherically corrected, and expressed in units of Kelvin.</td>\n",
       "    </tr>\n",
       "    <tr>\n",
       "      <th>9</th>\n",
       "      <td>landsat-c1l2alb-sr</td>\n",
       "      <td>Landsat Collection 1 Level-2 Albers Surface Reflectance (SR) Product</td>\n",
       "      <td>The Landsat Surface Reflectance (SR) product measures the fraction of incoming solar radiation that is reflected from Earth's surface to the Landsat sensor.</td>\n",
       "    </tr>\n",
       "    <tr>\n",
       "      <th>10</th>\n",
       "      <td>landsat-c2l1</td>\n",
       "      <td>Landsat Collection 2 Level-1 Product</td>\n",
       "      <td>The Landsat Level-1 product is a top of atmosphere product distributed as scaled and calibrated digital numbers.</td>\n",
       "    </tr>\n",
       "    <tr>\n",
       "      <th>11</th>\n",
       "      <td>landsat-c2l2alb-sr</td>\n",
       "      <td>Landsat Collection 2 Level-2 Albers Surface Reflectance (SR) Product</td>\n",
       "      <td>The Landsat Surface Reflectance (SR) product measures the fraction of incoming solar radiation that is reflected from Earth's surface to the Landsat sensor.</td>\n",
       "    </tr>\n",
       "  </tbody>\n",
       "</table>\n",
       "</div>"
      ],
      "text/plain": [
       "                    id  \\\n",
       "0   landsat-c1l2alb-ta   \n",
       "1   landsat-c2l2alb-bt   \n",
       "2   landsat-c2l2alb-ta   \n",
       "3   landsat-c2l2alb-st   \n",
       "4   landsat-c1l2alb-st   \n",
       "5      landsat-c2l2-sr   \n",
       "6      landsat-c2l2-st   \n",
       "7         landsat-c1l1   \n",
       "8   landsat-c1l2alb-bt   \n",
       "9   landsat-c1l2alb-sr   \n",
       "10        landsat-c2l1   \n",
       "11  landsat-c2l2alb-sr   \n",
       "\n",
       "                                                                                        title  \\\n",
       "0              Landsat Collection 1 Level-2 Albers Top of Atmosphere (TA) Reflectance Product   \n",
       "1   Landsat Collection 2 Level-2 Albers Top of Atmosphere Brightness Temperature (BT) Product   \n",
       "2              Landsat Collection 2 Level-2 Albers Top of Atmosphere (TA) Reflectance Product   \n",
       "3                        Landsat Collection 2 Level-2 Albers Surface Temperature (ST) Product   \n",
       "4                        Landsat Collection 1 Level-2 Albers Surface Temperature (ST) Product   \n",
       "5                           Landsat Collection 2 Level-2 UTM Surface Reflectance (SR) Product   \n",
       "6                           Landsat Collection 2 Level-2 UTM Surface Temperature (ST) Product   \n",
       "7                                                        Landsat Collection 1 Level-1 Product   \n",
       "8   Landsat Collection 1 Level-2 Albers Top of Atmosphere Brightness Temperature (BT) Product   \n",
       "9                        Landsat Collection 1 Level-2 Albers Surface Reflectance (SR) Product   \n",
       "10                                                       Landsat Collection 2 Level-1 Product   \n",
       "11                       Landsat Collection 2 Level-2 Albers Surface Reflectance (SR) Product   \n",
       "\n",
       "                                                                                                                                                                                                description  \n",
       "0                                                                          The Landsat Top of Atmosphere (TA) Reflectance product applies per pixel angle band corrections to the Level-1 radiance product.  \n",
       "1   The Landsat Top of Atmosphere Brightness Temperature (BT) product is a top of atmosphere product with radiance calculated 'at-sensor', not atmospherically corrected, and expressed in units of Kelvin.  \n",
       "2                                                                          The Landsat Top of Atmosphere (TA) Reflectance product applies per pixel angle band corrections to the Level-1 radiance product.  \n",
       "3                                                                                             The Landsat Surface Temperature (ST) product represents the temperature of the Earth's surface in Kelvin (K).  \n",
       "4                                                                                             The Landsat Surface Temperature (ST) product represents the temperature of the Earth's surface in Kelvin (K).  \n",
       "5                                              The Landsat Surface Reflectance (SR) product measures the fraction of incoming solar radiation that is reflected from Earth's surface to the Landsat sensor.  \n",
       "6                                                                                             The Landsat Surface Temperature (ST) product represents the temperature of the Earth's surface in Kelvin (K).  \n",
       "7                                                                                          The Landsat Level-1 product is a top of atmosphere product distributed as scaled and calibrated digital numbers.  \n",
       "8   The Landsat Top of Atmosphere Brightness Temperature (BT) product is a top of atmosphere product with radiance calculated 'at-sensor', not atmospherically corrected, and expressed in units of Kelvin.  \n",
       "9                                              The Landsat Surface Reflectance (SR) product measures the fraction of incoming solar radiation that is reflected from Earth's surface to the Landsat sensor.  \n",
       "10                                                                                         The Landsat Level-1 product is a top of atmosphere product distributed as scaled and calibrated digital numbers.  \n",
       "11                                             The Landsat Surface Reflectance (SR) product measures the fraction of incoming solar radiation that is reflected from Earth's surface to the Landsat sensor.  "
      ]
     },
     "execution_count": 9,
     "metadata": {},
     "output_type": "execute_result"
    }
   ],
   "source": [
    "nr.collections()"
   ]
  },
  {
   "cell_type": "code",
   "execution_count": 10,
   "id": "69df2063",
   "metadata": {},
   "outputs": [
    {
     "data": {
      "text/html": [
       "<div>\n",
       "<style scoped>\n",
       "    .dataframe tbody tr th:only-of-type {\n",
       "        vertical-align: middle;\n",
       "    }\n",
       "\n",
       "    .dataframe tbody tr th {\n",
       "        vertical-align: top;\n",
       "    }\n",
       "\n",
       "    .dataframe thead th {\n",
       "        text-align: right;\n",
       "    }\n",
       "</style>\n",
       "<table border=\"1\" class=\"dataframe\">\n",
       "  <thead>\n",
       "    <tr style=\"text-align: right;\">\n",
       "      <th></th>\n",
       "      <th>0</th>\n",
       "      <th>1</th>\n",
       "      <th>2</th>\n",
       "      <th>3</th>\n",
       "      <th>4</th>\n",
       "      <th>5</th>\n",
       "      <th>6</th>\n",
       "      <th>7</th>\n",
       "      <th>8</th>\n",
       "      <th>9</th>\n",
       "      <th>10</th>\n",
       "      <th>11</th>\n",
       "    </tr>\n",
       "  </thead>\n",
       "  <tbody>\n",
       "    <tr>\n",
       "      <th>id</th>\n",
       "      <td>landsat-c1l2alb-ta</td>\n",
       "      <td>landsat-c2l2alb-bt</td>\n",
       "      <td>landsat-c2l2alb-ta</td>\n",
       "      <td>landsat-c2l2alb-st</td>\n",
       "      <td>landsat-c1l2alb-st</td>\n",
       "      <td>landsat-c2l2-sr</td>\n",
       "      <td>landsat-c2l2-st</td>\n",
       "      <td>landsat-c1l1</td>\n",
       "      <td>landsat-c1l2alb-bt</td>\n",
       "      <td>landsat-c1l2alb-sr</td>\n",
       "      <td>landsat-c2l1</td>\n",
       "      <td>landsat-c2l2alb-sr</td>\n",
       "    </tr>\n",
       "    <tr>\n",
       "      <th>title</th>\n",
       "      <td>Landsat Collection 1 Level-2 Albers Top of Atmosphere (TA) Reflectance Product</td>\n",
       "      <td>Landsat Collection 2 Level-2 Albers Top of Atmosphere Brightness Temperature (BT) Product</td>\n",
       "      <td>Landsat Collection 2 Level-2 Albers Top of Atmosphere (TA) Reflectance Product</td>\n",
       "      <td>Landsat Collection 2 Level-2 Albers Surface Temperature (ST) Product</td>\n",
       "      <td>Landsat Collection 1 Level-2 Albers Surface Temperature (ST) Product</td>\n",
       "      <td>Landsat Collection 2 Level-2 UTM Surface Reflectance (SR) Product</td>\n",
       "      <td>Landsat Collection 2 Level-2 UTM Surface Temperature (ST) Product</td>\n",
       "      <td>Landsat Collection 1 Level-1 Product</td>\n",
       "      <td>Landsat Collection 1 Level-2 Albers Top of Atmosphere Brightness Temperature (BT) Product</td>\n",
       "      <td>Landsat Collection 1 Level-2 Albers Surface Reflectance (SR) Product</td>\n",
       "      <td>Landsat Collection 2 Level-1 Product</td>\n",
       "      <td>Landsat Collection 2 Level-2 Albers Surface Reflectance (SR) Product</td>\n",
       "    </tr>\n",
       "    <tr>\n",
       "      <th>description</th>\n",
       "      <td>The Landsat Top of Atmosphere (TA) Reflectance product applies per pixel angle band corrections to the Level-1 radiance product.</td>\n",
       "      <td>The Landsat Top of Atmosphere Brightness Temperature (BT) product is a top of atmosphere product with radiance calculated 'at-sensor', not atmospherically corrected, and expressed in units of Kelvin.</td>\n",
       "      <td>The Landsat Top of Atmosphere (TA) Reflectance product applies per pixel angle band corrections to the Level-1 radiance product.</td>\n",
       "      <td>The Landsat Surface Temperature (ST) product represents the temperature of the Earth's surface in Kelvin (K).</td>\n",
       "      <td>The Landsat Surface Temperature (ST) product represents the temperature of the Earth's surface in Kelvin (K).</td>\n",
       "      <td>The Landsat Surface Reflectance (SR) product measures the fraction of incoming solar radiation that is reflected from Earth's surface to the Landsat sensor.</td>\n",
       "      <td>The Landsat Surface Temperature (ST) product represents the temperature of the Earth's surface in Kelvin (K).</td>\n",
       "      <td>The Landsat Level-1 product is a top of atmosphere product distributed as scaled and calibrated digital numbers.</td>\n",
       "      <td>The Landsat Top of Atmosphere Brightness Temperature (BT) product is a top of atmosphere product with radiance calculated 'at-sensor', not atmospherically corrected, and expressed in units of Kelvin.</td>\n",
       "      <td>The Landsat Surface Reflectance (SR) product measures the fraction of incoming solar radiation that is reflected from Earth's surface to the Landsat sensor.</td>\n",
       "      <td>The Landsat Level-1 product is a top of atmosphere product distributed as scaled and calibrated digital numbers.</td>\n",
       "      <td>The Landsat Surface Reflectance (SR) product measures the fraction of incoming solar radiation that is reflected from Earth's surface to the Landsat sensor.</td>\n",
       "    </tr>\n",
       "  </tbody>\n",
       "</table>\n",
       "</div>"
      ],
      "text/plain": [
       "                                                                                                                                           0   \\\n",
       "id                                                                                                                         landsat-c1l2alb-ta   \n",
       "title                                                          Landsat Collection 1 Level-2 Albers Top of Atmosphere (TA) Reflectance Product   \n",
       "description  The Landsat Top of Atmosphere (TA) Reflectance product applies per pixel angle band corrections to the Level-1 radiance product.   \n",
       "\n",
       "                                                                                                                                                                                                                  1   \\\n",
       "id                                                                                                                                                                                                landsat-c2l2alb-bt   \n",
       "title                                                                                                                      Landsat Collection 2 Level-2 Albers Top of Atmosphere Brightness Temperature (BT) Product   \n",
       "description  The Landsat Top of Atmosphere Brightness Temperature (BT) product is a top of atmosphere product with radiance calculated 'at-sensor', not atmospherically corrected, and expressed in units of Kelvin.   \n",
       "\n",
       "                                                                                                                                           2   \\\n",
       "id                                                                                                                         landsat-c2l2alb-ta   \n",
       "title                                                          Landsat Collection 2 Level-2 Albers Top of Atmosphere (TA) Reflectance Product   \n",
       "description  The Landsat Top of Atmosphere (TA) Reflectance product applies per pixel angle band corrections to the Level-1 radiance product.   \n",
       "\n",
       "                                                                                                                        3   \\\n",
       "id                                                                                                      landsat-c2l2alb-st   \n",
       "title                                                 Landsat Collection 2 Level-2 Albers Surface Temperature (ST) Product   \n",
       "description  The Landsat Surface Temperature (ST) product represents the temperature of the Earth's surface in Kelvin (K).   \n",
       "\n",
       "                                                                                                                        4   \\\n",
       "id                                                                                                      landsat-c1l2alb-st   \n",
       "title                                                 Landsat Collection 1 Level-2 Albers Surface Temperature (ST) Product   \n",
       "description  The Landsat Surface Temperature (ST) product represents the temperature of the Earth's surface in Kelvin (K).   \n",
       "\n",
       "                                                                                                                                                                       5   \\\n",
       "id                                                                                                                                                        landsat-c2l2-sr   \n",
       "title                                                                                                   Landsat Collection 2 Level-2 UTM Surface Reflectance (SR) Product   \n",
       "description  The Landsat Surface Reflectance (SR) product measures the fraction of incoming solar radiation that is reflected from Earth's surface to the Landsat sensor.   \n",
       "\n",
       "                                                                                                                        6   \\\n",
       "id                                                                                                         landsat-c2l2-st   \n",
       "title                                                    Landsat Collection 2 Level-2 UTM Surface Temperature (ST) Product   \n",
       "description  The Landsat Surface Temperature (ST) product represents the temperature of the Earth's surface in Kelvin (K).   \n",
       "\n",
       "                                                                                                                           7   \\\n",
       "id                                                                                                               landsat-c1l1   \n",
       "title                                                                                    Landsat Collection 1 Level-1 Product   \n",
       "description  The Landsat Level-1 product is a top of atmosphere product distributed as scaled and calibrated digital numbers.   \n",
       "\n",
       "                                                                                                                                                                                                                  8   \\\n",
       "id                                                                                                                                                                                                landsat-c1l2alb-bt   \n",
       "title                                                                                                                      Landsat Collection 1 Level-2 Albers Top of Atmosphere Brightness Temperature (BT) Product   \n",
       "description  The Landsat Top of Atmosphere Brightness Temperature (BT) product is a top of atmosphere product with radiance calculated 'at-sensor', not atmospherically corrected, and expressed in units of Kelvin.   \n",
       "\n",
       "                                                                                                                                                                       9   \\\n",
       "id                                                                                                                                                     landsat-c1l2alb-sr   \n",
       "title                                                                                                Landsat Collection 1 Level-2 Albers Surface Reflectance (SR) Product   \n",
       "description  The Landsat Surface Reflectance (SR) product measures the fraction of incoming solar radiation that is reflected from Earth's surface to the Landsat sensor.   \n",
       "\n",
       "                                                                                                                           10  \\\n",
       "id                                                                                                               landsat-c2l1   \n",
       "title                                                                                    Landsat Collection 2 Level-1 Product   \n",
       "description  The Landsat Level-1 product is a top of atmosphere product distributed as scaled and calibrated digital numbers.   \n",
       "\n",
       "                                                                                                                                                                       11  \n",
       "id                                                                                                                                                     landsat-c2l2alb-sr  \n",
       "title                                                                                                Landsat Collection 2 Level-2 Albers Surface Reflectance (SR) Product  \n",
       "description  The Landsat Surface Reflectance (SR) product measures the fraction of incoming solar radiation that is reflected from Earth's surface to the Landsat sensor.  "
      ]
     },
     "execution_count": 10,
     "metadata": {},
     "output_type": "execute_result"
    }
   ],
   "source": [
    "nr.collections().T"
   ]
  },
  {
   "cell_type": "code",
   "execution_count": 11,
   "id": "1d5c9f88",
   "metadata": {},
   "outputs": [],
   "source": [
    "min_cloud = 0\n",
    "max_cloud = 30\n",
    "\n",
    "date_min=\"2018-11-01\"\n",
    "date_max=\"2021-04-01\"\n",
    "\n",
    "aoi_geojson_file = './Chile-lithium.geojson'"
   ]
  },
  {
   "cell_type": "code",
   "execution_count": 12,
   "id": "7a6951fe",
   "metadata": {},
   "outputs": [
    {
     "name": "stdout",
     "output_type": "stream",
     "text": [
      "creating Fmap class\n"
     ]
    },
    {
     "data": {
      "text/html": [
       "<div style=\"width:100%;\"><div style=\"position:relative;width:100%;height:0;padding-bottom:60%;\"><span style=\"color:#565656\">Make this Notebook Trusted to load map: File -> Trust Notebook</span><iframe src=\"about:blank\" style=\"position:absolute;width:100%;height:100%;left:0;top:0;border:none !important;\" data-html=%3C%21DOCTYPE%20html%3E%0A%3Chead%3E%20%20%20%20%0A%20%20%20%20%3Cmeta%20http-equiv%3D%22content-type%22%20content%3D%22text/html%3B%20charset%3DUTF-8%22%20/%3E%0A%20%20%20%20%0A%20%20%20%20%20%20%20%20%3Cscript%3E%0A%20%20%20%20%20%20%20%20%20%20%20%20L_NO_TOUCH%20%3D%20false%3B%0A%20%20%20%20%20%20%20%20%20%20%20%20L_DISABLE_3D%20%3D%20false%3B%0A%20%20%20%20%20%20%20%20%3C/script%3E%0A%20%20%20%20%0A%20%20%20%20%3Cstyle%3Ehtml%2C%20body%20%7Bwidth%3A%20100%25%3Bheight%3A%20100%25%3Bmargin%3A%200%3Bpadding%3A%200%3B%7D%3C/style%3E%0A%20%20%20%20%3Cstyle%3E%23map%20%7Bposition%3Aabsolute%3Btop%3A0%3Bbottom%3A0%3Bright%3A0%3Bleft%3A0%3B%7D%3C/style%3E%0A%20%20%20%20%3Cscript%20src%3D%22https%3A//cdn.jsdelivr.net/npm/leaflet%401.6.0/dist/leaflet.js%22%3E%3C/script%3E%0A%20%20%20%20%3Cscript%20src%3D%22https%3A//code.jquery.com/jquery-1.12.4.min.js%22%3E%3C/script%3E%0A%20%20%20%20%3Cscript%20src%3D%22https%3A//maxcdn.bootstrapcdn.com/bootstrap/3.2.0/js/bootstrap.min.js%22%3E%3C/script%3E%0A%20%20%20%20%3Cscript%20src%3D%22https%3A//cdnjs.cloudflare.com/ajax/libs/Leaflet.awesome-markers/2.0.2/leaflet.awesome-markers.js%22%3E%3C/script%3E%0A%20%20%20%20%3Clink%20rel%3D%22stylesheet%22%20href%3D%22https%3A//cdn.jsdelivr.net/npm/leaflet%401.6.0/dist/leaflet.css%22/%3E%0A%20%20%20%20%3Clink%20rel%3D%22stylesheet%22%20href%3D%22https%3A//maxcdn.bootstrapcdn.com/bootstrap/3.2.0/css/bootstrap.min.css%22/%3E%0A%20%20%20%20%3Clink%20rel%3D%22stylesheet%22%20href%3D%22https%3A//maxcdn.bootstrapcdn.com/bootstrap/3.2.0/css/bootstrap-theme.min.css%22/%3E%0A%20%20%20%20%3Clink%20rel%3D%22stylesheet%22%20href%3D%22https%3A//maxcdn.bootstrapcdn.com/font-awesome/4.6.3/css/font-awesome.min.css%22/%3E%0A%20%20%20%20%3Clink%20rel%3D%22stylesheet%22%20href%3D%22https%3A//cdnjs.cloudflare.com/ajax/libs/Leaflet.awesome-markers/2.0.2/leaflet.awesome-markers.css%22/%3E%0A%20%20%20%20%3Clink%20rel%3D%22stylesheet%22%20href%3D%22https%3A//cdn.jsdelivr.net/gh/python-visualization/folium/folium/templates/leaflet.awesome.rotate.min.css%22/%3E%0A%20%20%20%20%0A%20%20%20%20%20%20%20%20%20%20%20%20%3Cmeta%20name%3D%22viewport%22%20content%3D%22width%3Ddevice-width%2C%0A%20%20%20%20%20%20%20%20%20%20%20%20%20%20%20%20initial-scale%3D1.0%2C%20maximum-scale%3D1.0%2C%20user-scalable%3Dno%22%20/%3E%0A%20%20%20%20%20%20%20%20%20%20%20%20%3Cstyle%3E%0A%20%20%20%20%20%20%20%20%20%20%20%20%20%20%20%20%23map_59765a3e0ab6454998f63d24e3e898b1%20%7B%0A%20%20%20%20%20%20%20%20%20%20%20%20%20%20%20%20%20%20%20%20position%3A%20relative%3B%0A%20%20%20%20%20%20%20%20%20%20%20%20%20%20%20%20%20%20%20%20width%3A%20100.0%25%3B%0A%20%20%20%20%20%20%20%20%20%20%20%20%20%20%20%20%20%20%20%20height%3A%20100.0%25%3B%0A%20%20%20%20%20%20%20%20%20%20%20%20%20%20%20%20%20%20%20%20left%3A%200.0%25%3B%0A%20%20%20%20%20%20%20%20%20%20%20%20%20%20%20%20%20%20%20%20top%3A%200.0%25%3B%0A%20%20%20%20%20%20%20%20%20%20%20%20%20%20%20%20%7D%0A%20%20%20%20%20%20%20%20%20%20%20%20%3C/style%3E%0A%20%20%20%20%20%20%20%20%0A%3C/head%3E%0A%3Cbody%3E%20%20%20%20%0A%20%20%20%20%0A%20%20%20%20%20%20%20%20%20%20%20%20%3Cdiv%20class%3D%22folium-map%22%20id%3D%22map_59765a3e0ab6454998f63d24e3e898b1%22%20%3E%3C/div%3E%0A%20%20%20%20%20%20%20%20%0A%3C/body%3E%0A%3Cscript%3E%20%20%20%20%0A%20%20%20%20%0A%20%20%20%20%20%20%20%20%20%20%20%20var%20map_59765a3e0ab6454998f63d24e3e898b1%20%3D%20L.map%28%0A%20%20%20%20%20%20%20%20%20%20%20%20%20%20%20%20%22map_59765a3e0ab6454998f63d24e3e898b1%22%2C%0A%20%20%20%20%20%20%20%20%20%20%20%20%20%20%20%20%7B%0A%20%20%20%20%20%20%20%20%20%20%20%20%20%20%20%20%20%20%20%20center%3A%20%5B-23.738840533735527%2C%20-68.543701171875%5D%2C%0A%20%20%20%20%20%20%20%20%20%20%20%20%20%20%20%20%20%20%20%20crs%3A%20L.CRS.EPSG3857%2C%0A%20%20%20%20%20%20%20%20%20%20%20%20%20%20%20%20%20%20%20%20zoom%3A%2012%2C%0A%20%20%20%20%20%20%20%20%20%20%20%20%20%20%20%20%20%20%20%20zoomControl%3A%20true%2C%0A%20%20%20%20%20%20%20%20%20%20%20%20%20%20%20%20%20%20%20%20preferCanvas%3A%20false%2C%0A%20%20%20%20%20%20%20%20%20%20%20%20%20%20%20%20%20%20%20%20center%3A%20%5B-23.738840533735527%2C%20-68.543701171875%5D%2C%0A%20%20%20%20%20%20%20%20%20%20%20%20%20%20%20%20%7D%0A%20%20%20%20%20%20%20%20%20%20%20%20%29%3B%0A%0A%20%20%20%20%20%20%20%20%20%20%20%20%0A%0A%20%20%20%20%20%20%20%20%0A%20%20%20%20%0A%20%20%20%20%20%20%20%20%20%20%20%20var%20tile_layer_ee27743075834fe8ade58c31392457c1%20%3D%20L.tileLayer%28%0A%20%20%20%20%20%20%20%20%20%20%20%20%20%20%20%20%22%20http%3A//mt1.google.com/vt/lyrs%3Dy%5Cu0026z%3D%7Bz%7D%5Cu0026x%3D%7Bx%7D%5Cu0026y%3D%7By%7D%22%2C%0A%20%20%20%20%20%20%20%20%20%20%20%20%20%20%20%20%7B%22attribution%22%3A%20%22Google%22%2C%20%22detectRetina%22%3A%20false%2C%20%22maxNativeZoom%22%3A%2018%2C%20%22maxZoom%22%3A%2018%2C%20%22minZoom%22%3A%200%2C%20%22noWrap%22%3A%20false%2C%20%22opacity%22%3A%201%2C%20%22subdomains%22%3A%20%22abc%22%2C%20%22tms%22%3A%20false%7D%0A%20%20%20%20%20%20%20%20%20%20%20%20%29.addTo%28map_59765a3e0ab6454998f63d24e3e898b1%29%3B%0A%20%20%20%20%20%20%20%20%0A%20%20%20%20%0A%20%20%20%20%20%20%20%20%20%20%20%20map_59765a3e0ab6454998f63d24e3e898b1.fitBounds%28%0A%20%20%20%20%20%20%20%20%20%20%20%20%20%20%20%20%5B%5B-23.738840533735527%2C%20-68.543701171875%5D%2C%20%5B-23.392681978613%2C%20-68.20587158203124%5D%5D%2C%0A%20%20%20%20%20%20%20%20%20%20%20%20%20%20%20%20%7B%7D%0A%20%20%20%20%20%20%20%20%20%20%20%20%29%3B%0A%20%20%20%20%20%20%20%20%0A%20%20%20%20%0A%20%20%20%20%20%20%20%20function%20geo_json_659f4792e1294cb78b204ea572dfc3e6_styler%28feature%29%20%7B%0A%20%20%20%20%20%20%20%20%20%20%20%20switch%28feature.id%29%20%7B%0A%20%20%20%20%20%20%20%20%20%20%20%20%20%20%20%20default%3A%0A%20%20%20%20%20%20%20%20%20%20%20%20%20%20%20%20%20%20%20%20return%20%7B%22color%22%3A%20%22blue%22%7D%3B%0A%20%20%20%20%20%20%20%20%20%20%20%20%7D%0A%20%20%20%20%20%20%20%20%7D%0A%0A%20%20%20%20%20%20%20%20function%20geo_json_659f4792e1294cb78b204ea572dfc3e6_onEachFeature%28feature%2C%20layer%29%20%7B%0A%20%20%20%20%20%20%20%20%20%20%20%20layer.on%28%7B%0A%20%20%20%20%20%20%20%20%20%20%20%20%7D%29%3B%0A%20%20%20%20%20%20%20%20%7D%3B%0A%20%20%20%20%20%20%20%20var%20geo_json_659f4792e1294cb78b204ea572dfc3e6%20%3D%20L.geoJson%28null%2C%20%7B%0A%20%20%20%20%20%20%20%20%20%20%20%20%20%20%20%20onEachFeature%3A%20geo_json_659f4792e1294cb78b204ea572dfc3e6_onEachFeature%2C%0A%20%20%20%20%20%20%20%20%20%20%20%20%0A%20%20%20%20%20%20%20%20%20%20%20%20%20%20%20%20style%3A%20geo_json_659f4792e1294cb78b204ea572dfc3e6_styler%2C%0A%20%20%20%20%20%20%20%20%7D%29%3B%0A%0A%20%20%20%20%20%20%20%20function%20geo_json_659f4792e1294cb78b204ea572dfc3e6_add%20%28data%29%20%7B%0A%20%20%20%20%20%20%20%20%20%20%20%20geo_json_659f4792e1294cb78b204ea572dfc3e6%0A%20%20%20%20%20%20%20%20%20%20%20%20%20%20%20%20.addData%28data%29%0A%20%20%20%20%20%20%20%20%20%20%20%20%20%20%20%20.addTo%28map_59765a3e0ab6454998f63d24e3e898b1%29%3B%0A%20%20%20%20%20%20%20%20%7D%0A%20%20%20%20%20%20%20%20%20%20%20%20geo_json_659f4792e1294cb78b204ea572dfc3e6_add%28%7B%22features%22%3A%20%5B%7B%22geometry%22%3A%20%7B%22coordinates%22%3A%20%5B%5B%5B-68.543701171875%2C%20-23.738840533735527%5D%2C%20%5B-68.20587158203124%2C%20-23.738840533735527%5D%2C%20%5B-68.20587158203124%2C%20-23.392681978613%5D%2C%20%5B-68.543701171875%2C%20-23.392681978613%5D%2C%20%5B-68.543701171875%2C%20-23.738840533735527%5D%5D%5D%2C%20%22type%22%3A%20%22Polygon%22%7D%2C%20%22id%22%3A%20%220%22%2C%20%22properties%22%3A%20%7B%7D%2C%20%22type%22%3A%20%22Feature%22%7D%5D%2C%20%22type%22%3A%20%22FeatureCollection%22%7D%29%3B%0A%0A%20%20%20%20%20%20%20%20%0A%20%20%20%20%0A%20%20%20%20%20%20%20%20%20%20%20%20%20%20%20%20var%20lat_lng_popup_23c767ba84f240b2b456d6cba3640c8f%20%3D%20L.popup%28%29%3B%0A%20%20%20%20%20%20%20%20%20%20%20%20%20%20%20%20function%20latLngPop%28e%29%20%7B%0A%20%20%20%20%20%20%20%20%20%20%20%20%20%20%20%20%20%20%20%20lat_lng_popup_23c767ba84f240b2b456d6cba3640c8f%0A%20%20%20%20%20%20%20%20%20%20%20%20%20%20%20%20%20%20%20%20%20%20%20%20.setLatLng%28e.latlng%29%0A%20%20%20%20%20%20%20%20%20%20%20%20%20%20%20%20%20%20%20%20%20%20%20%20.setContent%28%22Latitude%3A%20%22%20%2B%20e.latlng.lat.toFixed%284%29%20%2B%0A%20%20%20%20%20%20%20%20%20%20%20%20%20%20%20%20%20%20%20%20%20%20%20%20%20%20%20%20%20%20%20%20%20%20%20%20%22%3Cbr%3ELongitude%3A%20%22%20%2B%20e.latlng.lng.toFixed%284%29%29%0A%20%20%20%20%20%20%20%20%20%20%20%20%20%20%20%20%20%20%20%20%20%20%20%20.openOn%28map_59765a3e0ab6454998f63d24e3e898b1%29%3B%0A%20%20%20%20%20%20%20%20%20%20%20%20%20%20%20%20%20%20%20%20%7D%0A%20%20%20%20%20%20%20%20%20%20%20%20%20%20%20%20map_59765a3e0ab6454998f63d24e3e898b1.on%28%27click%27%2C%20latLngPop%29%3B%0A%20%20%20%20%20%20%20%20%20%20%20%20%0A%3C/script%3E onload=\"this.contentDocument.open();this.contentDocument.write(    decodeURIComponent(this.getAttribute('data-html')));this.contentDocument.close();\" allowfullscreen webkitallowfullscreen mozallowfullscreen></iframe></div></div>"
      ],
      "text/plain": [
       "<folium.folium.Map at 0x7f920e05a690>"
      ]
     },
     "execution_count": 12,
     "metadata": {},
     "output_type": "execute_result"
    }
   ],
   "source": [
    "nr.sat(aoi_geojson_file)"
   ]
  },
  {
   "cell_type": "code",
   "execution_count": null,
   "id": "07f6fb22",
   "metadata": {},
   "outputs": [],
   "source": [
    "from ks_cool_stac import ks_stac_search"
   ]
  },
  {
   "cell_type": "code",
   "execution_count": 13,
   "id": "5653cb08",
   "metadata": {},
   "outputs": [
    {
     "name": "stdout",
     "output_type": "stream",
     "text": [
      "./Chile-lithium.geojson 2018-11-01 2021-04-01 0 30 ['red', 'green', 'blue']\n",
      "[]\n",
      "0 LENGTH\n"
     ]
    },
    {
     "ename": "IndexError",
     "evalue": "list index out of range",
     "output_type": "error",
     "traceback": [
      "\u001b[0;31m---------------------------------------------------------------------------\u001b[0m",
      "\u001b[0;31mIndexError\u001b[0m                                Traceback (most recent call last)",
      "\u001b[0;32m<ipython-input-13-8b67d188fbe3>\u001b[0m in \u001b[0;36m<module>\u001b[0;34m\u001b[0m\n\u001b[1;32m      1\u001b[0m \u001b[0mmy_measures\u001b[0m \u001b[0;34m=\u001b[0m \u001b[0;34m[\u001b[0m\u001b[0;34m'red'\u001b[0m\u001b[0;34m,\u001b[0m \u001b[0;34m'green'\u001b[0m\u001b[0;34m,\u001b[0m \u001b[0;34m'blue'\u001b[0m\u001b[0;34m]\u001b[0m\u001b[0;34m\u001b[0m\u001b[0;34m\u001b[0m\u001b[0m\n\u001b[0;32m----> 2\u001b[0;31m \u001b[0manswer_stac\u001b[0m\u001b[0;34m,\u001b[0m \u001b[0mmy_df\u001b[0m \u001b[0;34m=\u001b[0m \u001b[0mnr\u001b[0m\u001b[0;34m.\u001b[0m\u001b[0msearch\u001b[0m\u001b[0;34m(\u001b[0m\u001b[0maoi_geojson_file\u001b[0m\u001b[0;34m,\u001b[0m \u001b[0mdate_min\u001b[0m\u001b[0;34m,\u001b[0m \u001b[0mdate_max\u001b[0m\u001b[0;34m,\u001b[0m \u001b[0mmin_cloud\u001b[0m\u001b[0;34m,\u001b[0m \u001b[0mmax_cloud\u001b[0m\u001b[0;34m,\u001b[0m \u001b[0mmy_measures\u001b[0m\u001b[0;34m)\u001b[0m\u001b[0;34m\u001b[0m\u001b[0;34m\u001b[0m\u001b[0m\n\u001b[0m",
      "\u001b[0;32m~/opt/hauge/00-lesson-1/fakelib/nr_cube.py\u001b[0m in \u001b[0;36msearch\u001b[0;34m(self, geoj_file, date_min, date_max, min_cloud, max_cloud, requested_measures)\u001b[0m\n\u001b[1;32m    127\u001b[0m     \u001b[0mmy_scenes\u001b[0m \u001b[0;34m=\u001b[0m \u001b[0mget_my_alber_scenes\u001b[0m\u001b[0;34m(\u001b[0m\u001b[0mdates\u001b[0m\u001b[0;34m,\u001b[0m \u001b[0mbbox\u001b[0m\u001b[0;34m,\u001b[0m \u001b[0mmin_cloud\u001b[0m\u001b[0;34m,\u001b[0m \u001b[0mmax_cloud\u001b[0m\u001b[0;34m)\u001b[0m\u001b[0;34m\u001b[0m\u001b[0;34m\u001b[0m\u001b[0m\n\u001b[1;32m    128\u001b[0m     \u001b[0mprint\u001b[0m\u001b[0;34m(\u001b[0m\u001b[0mmy_scenes\u001b[0m\u001b[0;34m)\u001b[0m\u001b[0;34m\u001b[0m\u001b[0;34m\u001b[0m\u001b[0m\n\u001b[0;32m--> 129\u001b[0;31m     \u001b[0msimple_df\u001b[0m \u001b[0;34m=\u001b[0m \u001b[0mcreate_simple_df_instead\u001b[0m\u001b[0;34m(\u001b[0m\u001b[0mself\u001b[0m\u001b[0;34m.\u001b[0m\u001b[0mmeasures\u001b[0m\u001b[0;34m,\u001b[0m \u001b[0mmy_scenes\u001b[0m\u001b[0;34m)\u001b[0m\u001b[0;34m\u001b[0m\u001b[0;34m\u001b[0m\u001b[0m\n\u001b[0m\u001b[1;32m    130\u001b[0m     \u001b[0;31m#print(simple_df)\u001b[0m\u001b[0;34m\u001b[0m\u001b[0;34m\u001b[0m\u001b[0;34m\u001b[0m\u001b[0m\n\u001b[1;32m    131\u001b[0m     \u001b[0;32mreturn\u001b[0m\u001b[0;34m(\u001b[0m\u001b[0mmy_scenes\u001b[0m\u001b[0;34m,\u001b[0m \u001b[0msimple_df\u001b[0m\u001b[0;34m)\u001b[0m\u001b[0;34m\u001b[0m\u001b[0;34m\u001b[0m\u001b[0m\n",
      "\u001b[0;32m~/opt/hauge/00-lesson-1/fakelib/nr_cube.py\u001b[0m in \u001b[0;36mcreate_simple_df_instead\u001b[0;34m(meas_dict, my_scenes)\u001b[0m\n\u001b[1;32m     57\u001b[0m     \u001b[0mdict_list\u001b[0m\u001b[0;34m=\u001b[0m\u001b[0;34m[\u001b[0m\u001b[0;34m]\u001b[0m\u001b[0;34m\u001b[0m\u001b[0;34m\u001b[0m\u001b[0m\n\u001b[1;32m     58\u001b[0m     \u001b[0mprint\u001b[0m\u001b[0;34m(\u001b[0m\u001b[0mlen\u001b[0m\u001b[0;34m(\u001b[0m\u001b[0mmy_scenes\u001b[0m\u001b[0;34m)\u001b[0m\u001b[0;34m,\u001b[0m \u001b[0;34m'LENGTH'\u001b[0m\u001b[0;34m)\u001b[0m\u001b[0;34m\u001b[0m\u001b[0;34m\u001b[0m\u001b[0m\n\u001b[0;32m---> 59\u001b[0;31m     \u001b[0mprint\u001b[0m\u001b[0;34m(\u001b[0m\u001b[0mmy_scenes\u001b[0m\u001b[0;34m[\u001b[0m\u001b[0;36m0\u001b[0m\u001b[0;34m]\u001b[0m\u001b[0;34m.\u001b[0m\u001b[0mkeys\u001b[0m\u001b[0;34m(\u001b[0m\u001b[0;34m)\u001b[0m\u001b[0;34m)\u001b[0m\u001b[0;34m\u001b[0m\u001b[0;34m\u001b[0m\u001b[0m\n\u001b[0m\u001b[1;32m     60\u001b[0m     \u001b[0;32mfor\u001b[0m \u001b[0mscene\u001b[0m \u001b[0;32min\u001b[0m \u001b[0mmy_scenes\u001b[0m\u001b[0;34m:\u001b[0m\u001b[0;34m\u001b[0m\u001b[0;34m\u001b[0m\u001b[0m\n\u001b[1;32m     61\u001b[0m         \u001b[0mprop_df\u001b[0m \u001b[0;34m=\u001b[0m \u001b[0mpd\u001b[0m\u001b[0;34m.\u001b[0m\u001b[0mDataFrame\u001b[0m\u001b[0;34m(\u001b[0m\u001b[0mscene\u001b[0m\u001b[0;34m[\u001b[0m\u001b[0;34m'properties'\u001b[0m\u001b[0;34m]\u001b[0m\u001b[0;34m)\u001b[0m\u001b[0;34m\u001b[0m\u001b[0;34m\u001b[0m\u001b[0m\n",
      "\u001b[0;31mIndexError\u001b[0m: list index out of range"
     ]
    }
   ],
   "source": [
    "my_measures = ['red', 'green', 'blue']\n",
    "#answer_stac, my_df = nr.search(aoi_geojson_file, date_min, date_max, min_cloud, max_cloud, my_measures)"
   ]
  },
  {
   "cell_type": "code",
   "execution_count": null,
   "id": "a9946c34",
   "metadata": {},
   "outputs": [],
   "source": []
  }
 ],
 "metadata": {
  "kernelspec": {
   "display_name": "Python 3",
   "language": "python",
   "name": "python3"
  },
  "language_info": {
   "codemirror_mode": {
    "name": "ipython",
    "version": 3
   },
   "file_extension": ".py",
   "mimetype": "text/x-python",
   "name": "python",
   "nbconvert_exporter": "python",
   "pygments_lexer": "ipython3",
   "version": "3.7.10"
  }
 },
 "nbformat": 4,
 "nbformat_minor": 5
}
