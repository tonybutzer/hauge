{
 "cells": [
  {
   "cell_type": "markdown",
   "id": "5b4f11ae",
   "metadata": {},
   "source": [
    "https://github.com/stac-utils/pystac-client"
   ]
  },
  {
   "cell_type": "code",
   "execution_count": 1,
   "id": "b1a1a9ad",
   "metadata": {},
   "outputs": [],
   "source": [
    "#! pip install --user pystac-client"
   ]
  },
  {
   "cell_type": "code",
   "execution_count": 2,
   "id": "df35fe01",
   "metadata": {},
   "outputs": [],
   "source": [
    "from pystac_client import Client\n"
   ]
  },
  {
   "cell_type": "code",
   "execution_count": 3,
   "id": "e147db93",
   "metadata": {},
   "outputs": [],
   "source": [
    "catalog = Client.open(\"https://earth-search.aws.element84.com/v0\")"
   ]
  },
  {
   "cell_type": "code",
   "execution_count": 4,
   "id": "9ddee67e",
   "metadata": {},
   "outputs": [
    {
     "data": {
      "text/plain": [
       "<Catalog id=earth-search>"
      ]
     },
     "execution_count": 4,
     "metadata": {},
     "output_type": "execute_result"
    }
   ],
   "source": [
    "catalog"
   ]
  },
  {
   "cell_type": "code",
   "execution_count": 5,
   "id": "724a414b",
   "metadata": {},
   "outputs": [
    {
     "data": {
      "text/plain": [
       "['DEFAULT_FILE_NAME',\n",
       " 'STAC_OBJECT_TYPE',\n",
       " '__abstractmethods__',\n",
       " '__class__',\n",
       " '__delattr__',\n",
       " '__dict__',\n",
       " '__dir__',\n",
       " '__doc__',\n",
       " '__eq__',\n",
       " '__format__',\n",
       " '__ge__',\n",
       " '__getattribute__',\n",
       " '__gt__',\n",
       " '__hash__',\n",
       " '__init__',\n",
       " '__init_subclass__',\n",
       " '__le__',\n",
       " '__lt__',\n",
       " '__module__',\n",
       " '__ne__',\n",
       " '__new__',\n",
       " '__reduce__',\n",
       " '__reduce_ex__',\n",
       " '__repr__',\n",
       " '__setattr__',\n",
       " '__sizeof__',\n",
       " '__slots__',\n",
       " '__str__',\n",
       " '__subclasshook__',\n",
       " '__weakref__',\n",
       " '_abc_impl',\n",
       " '_conformance',\n",
       " '_object_links',\n",
       " '_resolved_objects',\n",
       " 'add_child',\n",
       " 'add_children',\n",
       " 'add_item',\n",
       " 'add_items',\n",
       " 'add_link',\n",
       " 'add_links',\n",
       " 'api_ext',\n",
       " 'catalog_type',\n",
       " 'clear_children',\n",
       " 'clear_items',\n",
       " 'clear_links',\n",
       " 'clone',\n",
       " 'conformance',\n",
       " 'conforms_to',\n",
       " 'describe',\n",
       " 'description',\n",
       " 'ext',\n",
       " 'extra_fields',\n",
       " 'from_dict',\n",
       " 'from_file',\n",
       " 'full_copy',\n",
       " 'generate_subcatalogs',\n",
       " 'get_all_items',\n",
       " 'get_child',\n",
       " 'get_child_links',\n",
       " 'get_children',\n",
       " 'get_collections_list',\n",
       " 'get_item',\n",
       " 'get_item_links',\n",
       " 'get_items',\n",
       " 'get_links',\n",
       " 'get_parent',\n",
       " 'get_root',\n",
       " 'get_root_link',\n",
       " 'get_self_href',\n",
       " 'get_single_link',\n",
       " 'get_stac_objects',\n",
       " 'headers',\n",
       " 'id',\n",
       " 'is_relative',\n",
       " 'links',\n",
       " 'make_all_asset_hrefs_absolute',\n",
       " 'make_all_asset_hrefs_relative',\n",
       " 'map_assets',\n",
       " 'map_items',\n",
       " 'normalize_and_save',\n",
       " 'normalize_hrefs',\n",
       " 'open',\n",
       " 'remove_child',\n",
       " 'remove_item',\n",
       " 'remove_links',\n",
       " 'resolve_links',\n",
       " 'save',\n",
       " 'save_object',\n",
       " 'search',\n",
       " 'set_parent',\n",
       " 'set_root',\n",
       " 'set_self_href',\n",
       " 'stac_extensions',\n",
       " 'title',\n",
       " 'to_dict',\n",
       " 'validate',\n",
       " 'validate_all',\n",
       " 'walk']"
      ]
     },
     "execution_count": 5,
     "metadata": {},
     "output_type": "execute_result"
    }
   ],
   "source": [
    "dir(catalog)"
   ]
  },
  {
   "cell_type": "code",
   "execution_count": 7,
   "id": "28799253",
   "metadata": {},
   "outputs": [
    {
     "name": "stdout",
     "output_type": "stream",
     "text": [
      "* <Catalog id=earth-search>\n",
      "    * <Collection id=sentinel-s2-l2a>\n",
      "    * <Collection id=sentinel-s2-l1c>\n",
      "    * <Collection id=sentinel-s2-l2a-cogs>\n",
      "    * <Collection id=landsat-8-l1-c1>\n"
     ]
    }
   ],
   "source": [
    "catalog.describe()"
   ]
  },
  {
   "cell_type": "code",
   "execution_count": 17,
   "id": "561783e2",
   "metadata": {},
   "outputs": [
    {
     "ename": "KeyError",
     "evalue": "'id'",
     "output_type": "error",
     "traceback": [
      "\u001b[0;31m---------------------------------------------------------------------------\u001b[0m",
      "\u001b[0;31mKeyError\u001b[0m                                  Traceback (most recent call last)",
      "\u001b[0;32m<ipython-input-17-941fbbf4fbd3>\u001b[0m in \u001b[0;36m<module>\u001b[0;34m\u001b[0m\n\u001b[1;32m      1\u001b[0m \u001b[0msat_api_stc_endpointurl\u001b[0m \u001b[0;34m=\u001b[0m \u001b[0;34m\"https://landsatlook.usgs.gov/sat-api/stac\"\u001b[0m\u001b[0;34m\u001b[0m\u001b[0;34m\u001b[0m\u001b[0m\n\u001b[0;32m----> 2\u001b[0;31m \u001b[0mcatalog\u001b[0m \u001b[0;34m=\u001b[0m \u001b[0mClient\u001b[0m\u001b[0;34m.\u001b[0m\u001b[0mopen\u001b[0m\u001b[0;34m(\u001b[0m\u001b[0msat_api_url\u001b[0m\u001b[0;34m)\u001b[0m\u001b[0;34m\u001b[0m\u001b[0;34m\u001b[0m\u001b[0m\n\u001b[0m",
      "\u001b[0;32m~/.local/lib/python3.7/site-packages/pystac_client/client.py\u001b[0m in \u001b[0;36mopen\u001b[0;34m(cls, url, headers)\u001b[0m\n\u001b[1;32m     96\u001b[0m         \u001b[0mold_read_text_method\u001b[0m \u001b[0;34m=\u001b[0m \u001b[0mSTAC_IO\u001b[0m\u001b[0;34m.\u001b[0m\u001b[0mread_text_method\u001b[0m\u001b[0;34m\u001b[0m\u001b[0;34m\u001b[0m\u001b[0m\n\u001b[1;32m     97\u001b[0m         \u001b[0mSTAC_IO\u001b[0m\u001b[0;34m.\u001b[0m\u001b[0mread_text_method\u001b[0m \u001b[0;34m=\u001b[0m \u001b[0mread_text_method\u001b[0m\u001b[0;34m\u001b[0m\u001b[0;34m\u001b[0m\u001b[0m\n\u001b[0;32m---> 98\u001b[0;31m         \u001b[0mcatalog\u001b[0m \u001b[0;34m=\u001b[0m \u001b[0mcls\u001b[0m\u001b[0;34m.\u001b[0m\u001b[0mfrom_file\u001b[0m\u001b[0;34m(\u001b[0m\u001b[0murl\u001b[0m\u001b[0;34m)\u001b[0m\u001b[0;34m\u001b[0m\u001b[0;34m\u001b[0m\u001b[0m\n\u001b[0m\u001b[1;32m     99\u001b[0m         \u001b[0mSTAC_IO\u001b[0m\u001b[0;34m.\u001b[0m\u001b[0mread_text_method\u001b[0m \u001b[0;34m=\u001b[0m \u001b[0mold_read_text_method\u001b[0m\u001b[0;34m\u001b[0m\u001b[0;34m\u001b[0m\u001b[0m\n\u001b[1;32m    100\u001b[0m         \u001b[0mcatalog\u001b[0m\u001b[0;34m.\u001b[0m\u001b[0mheaders\u001b[0m \u001b[0;34m=\u001b[0m \u001b[0mheaders\u001b[0m\u001b[0;34m\u001b[0m\u001b[0;34m\u001b[0m\u001b[0m\n",
      "\u001b[0;32m~/.local/lib/python3.7/site-packages/pystac/stac_object.py\u001b[0m in \u001b[0;36mfrom_file\u001b[0;34m(cls, href)\u001b[0m\n\u001b[1;32m    494\u001b[0m             \u001b[0mo\u001b[0m \u001b[0;34m=\u001b[0m \u001b[0mSTAC_IO\u001b[0m\u001b[0;34m.\u001b[0m\u001b[0mstac_object_from_dict\u001b[0m\u001b[0;34m(\u001b[0m\u001b[0md\u001b[0m\u001b[0;34m,\u001b[0m \u001b[0mhref\u001b[0m\u001b[0;34m=\u001b[0m\u001b[0mhref\u001b[0m\u001b[0;34m)\u001b[0m\u001b[0;34m\u001b[0m\u001b[0;34m\u001b[0m\u001b[0m\n\u001b[1;32m    495\u001b[0m         \u001b[0;32melse\u001b[0m\u001b[0;34m:\u001b[0m\u001b[0;34m\u001b[0m\u001b[0;34m\u001b[0m\u001b[0m\n\u001b[0;32m--> 496\u001b[0;31m             \u001b[0mo\u001b[0m \u001b[0;34m=\u001b[0m \u001b[0mcls\u001b[0m\u001b[0;34m.\u001b[0m\u001b[0mfrom_dict\u001b[0m\u001b[0;34m(\u001b[0m\u001b[0md\u001b[0m\u001b[0;34m,\u001b[0m \u001b[0mhref\u001b[0m\u001b[0;34m=\u001b[0m\u001b[0mhref\u001b[0m\u001b[0;34m)\u001b[0m\u001b[0;34m\u001b[0m\u001b[0;34m\u001b[0m\u001b[0m\n\u001b[0m\u001b[1;32m    497\u001b[0m \u001b[0;34m\u001b[0m\u001b[0m\n\u001b[1;32m    498\u001b[0m         \u001b[0;31m# Set the self HREF, if it's not already set to something else.\u001b[0m\u001b[0;34m\u001b[0m\u001b[0;34m\u001b[0m\u001b[0;34m\u001b[0m\u001b[0m\n",
      "\u001b[0;32m~/.local/lib/python3.7/site-packages/pystac_client/client.py\u001b[0m in \u001b[0;36mfrom_dict\u001b[0;34m(cls, d, href, root)\u001b[0m\n\u001b[1;32m    122\u001b[0m         \u001b[0md\u001b[0m \u001b[0;34m=\u001b[0m \u001b[0mdeepcopy\u001b[0m\u001b[0;34m(\u001b[0m\u001b[0md\u001b[0m\u001b[0;34m)\u001b[0m\u001b[0;34m\u001b[0m\u001b[0;34m\u001b[0m\u001b[0m\n\u001b[1;32m    123\u001b[0m \u001b[0;34m\u001b[0m\u001b[0m\n\u001b[0;32m--> 124\u001b[0;31m         \u001b[0mid\u001b[0m \u001b[0;34m=\u001b[0m \u001b[0md\u001b[0m\u001b[0;34m.\u001b[0m\u001b[0mpop\u001b[0m\u001b[0;34m(\u001b[0m\u001b[0;34m'id'\u001b[0m\u001b[0;34m)\u001b[0m\u001b[0;34m\u001b[0m\u001b[0;34m\u001b[0m\u001b[0m\n\u001b[0m\u001b[1;32m    125\u001b[0m         \u001b[0mdescription\u001b[0m \u001b[0;34m=\u001b[0m \u001b[0md\u001b[0m\u001b[0;34m.\u001b[0m\u001b[0mpop\u001b[0m\u001b[0;34m(\u001b[0m\u001b[0;34m'description'\u001b[0m\u001b[0;34m)\u001b[0m\u001b[0;34m\u001b[0m\u001b[0;34m\u001b[0m\u001b[0m\n\u001b[1;32m    126\u001b[0m         \u001b[0mtitle\u001b[0m \u001b[0;34m=\u001b[0m \u001b[0md\u001b[0m\u001b[0;34m.\u001b[0m\u001b[0mpop\u001b[0m\u001b[0;34m(\u001b[0m\u001b[0;34m'title'\u001b[0m\u001b[0;34m,\u001b[0m \u001b[0;32mNone\u001b[0m\u001b[0;34m)\u001b[0m\u001b[0;34m\u001b[0m\u001b[0;34m\u001b[0m\u001b[0m\n",
      "\u001b[0;31mKeyError\u001b[0m: 'id'"
     ]
    }
   ],
   "source": [
    "sat_api_stac_endpoint_url = \"https://landsatlook.usgs.gov/sat-api/stac\"\n",
    "catalog = Client.open(sat_api_url)"
   ]
  },
  {
   "cell_type": "code",
   "execution_count": 18,
   "id": "ebfe9410",
   "metadata": {},
   "outputs": [
    {
     "name": "stdout",
     "output_type": "stream",
     "text": [
      "  % Total    % Received % Xferd  Average Speed   Time    Time     Time  Current\n",
      "                                 Dload  Upload   Total   Spent    Left  Speed\n",
      "100  1250  100  1250    0     0   5802      0 --:--:-- --:--:-- --:--:--  5813\n",
      "{\n",
      "    \"links\": [\n",
      "        {\n",
      "            \"rel\": \"child\",\n",
      "            \"href\": \"https://landsatlook.usgs.gov/sat-api/collections/landsat-c1l2alb-ta\"\n",
      "        },\n",
      "        {\n",
      "            \"rel\": \"child\",\n",
      "            \"href\": \"https://landsatlook.usgs.gov/sat-api/collections/landsat-c2l2alb-bt\"\n",
      "        },\n",
      "        {\n",
      "            \"rel\": \"child\",\n",
      "            \"href\": \"https://landsatlook.usgs.gov/sat-api/collections/landsat-c2l2alb-ta\"\n",
      "        },\n",
      "        {\n",
      "            \"rel\": \"child\",\n",
      "            \"href\": \"https://landsatlook.usgs.gov/sat-api/collections/landsat-c2l2alb-st\"\n",
      "        },\n",
      "        {\n",
      "            \"rel\": \"child\",\n",
      "            \"href\": \"https://landsatlook.usgs.gov/sat-api/collections/landsat-c1l2alb-st\"\n",
      "        },\n",
      "        {\n",
      "            \"rel\": \"child\",\n",
      "            \"href\": \"https://landsatlook.usgs.gov/sat-api/collections/landsat-c2l2-sr\"\n",
      "        },\n",
      "        {\n",
      "            \"rel\": \"child\",\n",
      "            \"href\": \"https://landsatlook.usgs.gov/sat-api/collections/landsat-c2l2-st\"\n",
      "        },\n",
      "        {\n",
      "            \"rel\": \"child\",\n",
      "            \"href\": \"https://landsatlook.usgs.gov/sat-api/collections/landsat-c1l1\"\n",
      "        },\n",
      "        {\n",
      "            \"rel\": \"child\",\n",
      "            \"href\": \"https://landsatlook.usgs.gov/sat-api/collections/landsat-c1l2alb-bt\"\n",
      "        },\n",
      "        {\n",
      "            \"rel\": \"child\",\n",
      "            \"href\": \"https://landsatlook.usgs.gov/sat-api/collections/landsat-c1l2alb-sr\"\n",
      "        },\n",
      "        {\n",
      "            \"rel\": \"child\",\n",
      "            \"href\": \"https://landsatlook.usgs.gov/sat-api/collections/landsat-c2l1\"\n",
      "        },\n",
      "        {\n",
      "            \"rel\": \"child\",\n",
      "            \"href\": \"https://landsatlook.usgs.gov/sat-api/collections/landsat-c2l2alb-sr\"\n",
      "        },\n",
      "        {\n",
      "            \"rel\": \"self\",\n",
      "            \"href\": \"https://landsatlook.usgs.gov/sat-api/stac\"\n",
      "        },\n",
      "        {\n",
      "            \"rel\": \"search\",\n",
      "            \"href\": \"https://landsatlook.usgs.gov/sat-api/stac/search\"\n",
      "        }\n",
      "    ]\n",
      "}\n"
     ]
    }
   ],
   "source": [
    "!curl https://landsatlook.usgs.gov/sat-api/stac |python -m json.tool"
   ]
  },
  {
   "cell_type": "code",
   "execution_count": null,
   "id": "d2fe9ea3",
   "metadata": {},
   "outputs": [],
   "source": []
  }
 ],
 "metadata": {
  "kernelspec": {
   "display_name": "Python 3",
   "language": "python",
   "name": "python3"
  },
  "language_info": {
   "codemirror_mode": {
    "name": "ipython",
    "version": 3
   },
   "file_extension": ".py",
   "mimetype": "text/x-python",
   "name": "python",
   "nbconvert_exporter": "python",
   "pygments_lexer": "ipython3",
   "version": "3.7.10"
  }
 },
 "nbformat": 4,
 "nbformat_minor": 5
}
